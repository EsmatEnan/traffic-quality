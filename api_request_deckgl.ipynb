{
 "cells": [
  {
   "cell_type": "markdown",
   "metadata": {},
   "source": [
    "# Package loading and basic configurations"
   ]
  },
  {
   "cell_type": "code",
   "execution_count": 1,
   "metadata": {},
   "outputs": [],
   "source": [
    "%load_ext autoreload\n",
    "%autoreload 2\n",
    "\n",
    "# load dependencies'\n",
    "import pandas as pd\n",
    "import geopandas as gpd\n",
    "\n",
    "from envirocar import TrackAPI, DownloadClient, BboxSelector, ECConfig\n",
    "\n",
    "# create an initial but optional config and an api client\n",
    "config = ECConfig()\n",
    "track_api = TrackAPI(api_client=DownloadClient(config=config))"
   ]
  },
  {
   "cell_type": "markdown",
   "metadata": {},
   "source": [
    "# Querying enviroCar Tracks"
   ]
  },
  {
   "cell_type": "markdown",
   "metadata": {},
   "source": [
    "The following cell queries tracks from the enviroCar API. It defines a bbox for the area of Münster (Germany) and requests 50 tracks. The result is a GeoDataFrame, which is a geo-extended Pandas dataframe from the GeoPandas library. It contains all information of the track in a flat dataframe format including a specific geometry column. "
   ]
  },
  {
   "cell_type": "code",
   "execution_count": 2,
   "metadata": {},
   "outputs": [
    {
     "data": {
      "text/html": [
       "<div>\n",
       "<style scoped>\n",
       "    .dataframe tbody tr th:only-of-type {\n",
       "        vertical-align: middle;\n",
       "    }\n",
       "\n",
       "    .dataframe tbody tr th {\n",
       "        vertical-align: top;\n",
       "    }\n",
       "\n",
       "    .dataframe thead th {\n",
       "        text-align: right;\n",
       "    }\n",
       "</style>\n",
       "<table border=\"1\" class=\"dataframe\">\n",
       "  <thead>\n",
       "    <tr style=\"text-align: right;\">\n",
       "      <th></th>\n",
       "      <th>id</th>\n",
       "      <th>time</th>\n",
       "      <th>geometry</th>\n",
       "      <th>Throttle Position.value</th>\n",
       "      <th>Throttle Position.unit</th>\n",
       "      <th>CO2.value</th>\n",
       "      <th>CO2.unit</th>\n",
       "      <th>GPS VDOP.value</th>\n",
       "      <th>GPS VDOP.unit</th>\n",
       "      <th>GPS Bearing.value</th>\n",
       "      <th>...</th>\n",
       "      <th>sensor.constructionYear</th>\n",
       "      <th>sensor.manufacturer</th>\n",
       "      <th>track.appVersion</th>\n",
       "      <th>track.touVersion</th>\n",
       "      <th>O2 Lambda Voltage ER.value</th>\n",
       "      <th>O2 Lambda Voltage ER.unit</th>\n",
       "      <th>MAF.value</th>\n",
       "      <th>MAF.unit</th>\n",
       "      <th>O2 Lambda Voltage.value</th>\n",
       "      <th>O2 Lambda Voltage.unit</th>\n",
       "    </tr>\n",
       "  </thead>\n",
       "  <tbody>\n",
       "    <tr>\n",
       "      <th>0</th>\n",
       "      <td>5eb7582165b80c5d6be69f24</td>\n",
       "      <td>2020-05-09T21:10:46</td>\n",
       "      <td>POINT (7.65180 51.95396)</td>\n",
       "      <td>16.000000</td>\n",
       "      <td>%</td>\n",
       "      <td>6.060965</td>\n",
       "      <td>kg/h</td>\n",
       "      <td>1.000000</td>\n",
       "      <td>precision</td>\n",
       "      <td>244.006986</td>\n",
       "      <td>...</td>\n",
       "      <td>2007</td>\n",
       "      <td>Dodge</td>\n",
       "      <td>NaN</td>\n",
       "      <td>NaN</td>\n",
       "      <td>NaN</td>\n",
       "      <td>NaN</td>\n",
       "      <td>NaN</td>\n",
       "      <td>NaN</td>\n",
       "      <td>NaN</td>\n",
       "      <td>NaN</td>\n",
       "    </tr>\n",
       "    <tr>\n",
       "      <th>1</th>\n",
       "      <td>5eb7582165b80c5d6be69f26</td>\n",
       "      <td>2020-05-09T21:10:51</td>\n",
       "      <td>POINT (7.65169 51.95395)</td>\n",
       "      <td>16.831018</td>\n",
       "      <td>%</td>\n",
       "      <td>7.644530</td>\n",
       "      <td>kg/h</td>\n",
       "      <td>1.000000</td>\n",
       "      <td>precision</td>\n",
       "      <td>273.231882</td>\n",
       "      <td>...</td>\n",
       "      <td>2007</td>\n",
       "      <td>Dodge</td>\n",
       "      <td>NaN</td>\n",
       "      <td>NaN</td>\n",
       "      <td>NaN</td>\n",
       "      <td>NaN</td>\n",
       "      <td>NaN</td>\n",
       "      <td>NaN</td>\n",
       "      <td>NaN</td>\n",
       "      <td>NaN</td>\n",
       "    </tr>\n",
       "    <tr>\n",
       "      <th>2</th>\n",
       "      <td>5eb7582165b80c5d6be69f27</td>\n",
       "      <td>2020-05-09T21:10:56</td>\n",
       "      <td>POINT (7.65148 51.95395)</td>\n",
       "      <td>16.846021</td>\n",
       "      <td>%</td>\n",
       "      <td>6.152178</td>\n",
       "      <td>kg/h</td>\n",
       "      <td>1.000000</td>\n",
       "      <td>precision</td>\n",
       "      <td>273.377388</td>\n",
       "      <td>...</td>\n",
       "      <td>2007</td>\n",
       "      <td>Dodge</td>\n",
       "      <td>NaN</td>\n",
       "      <td>NaN</td>\n",
       "      <td>NaN</td>\n",
       "      <td>NaN</td>\n",
       "      <td>NaN</td>\n",
       "      <td>NaN</td>\n",
       "      <td>NaN</td>\n",
       "      <td>NaN</td>\n",
       "    </tr>\n",
       "    <tr>\n",
       "      <th>3</th>\n",
       "      <td>5eb7582165b80c5d6be69f28</td>\n",
       "      <td>2020-05-09T21:11:01</td>\n",
       "      <td>POINT (7.65127 51.95397)</td>\n",
       "      <td>17.000001</td>\n",
       "      <td>%</td>\n",
       "      <td>7.380207</td>\n",
       "      <td>kg/h</td>\n",
       "      <td>0.930191</td>\n",
       "      <td>precision</td>\n",
       "      <td>274.705621</td>\n",
       "      <td>...</td>\n",
       "      <td>2007</td>\n",
       "      <td>Dodge</td>\n",
       "      <td>NaN</td>\n",
       "      <td>NaN</td>\n",
       "      <td>NaN</td>\n",
       "      <td>NaN</td>\n",
       "      <td>NaN</td>\n",
       "      <td>NaN</td>\n",
       "      <td>NaN</td>\n",
       "      <td>NaN</td>\n",
       "    </tr>\n",
       "    <tr>\n",
       "      <th>4</th>\n",
       "      <td>5eb7582165b80c5d6be69f29</td>\n",
       "      <td>2020-05-09T21:11:06</td>\n",
       "      <td>POINT (7.65101 51.95396)</td>\n",
       "      <td>15.151858</td>\n",
       "      <td>%</td>\n",
       "      <td>3.983817</td>\n",
       "      <td>kg/h</td>\n",
       "      <td>1.000000</td>\n",
       "      <td>precision</td>\n",
       "      <td>275.181028</td>\n",
       "      <td>...</td>\n",
       "      <td>2007</td>\n",
       "      <td>Dodge</td>\n",
       "      <td>NaN</td>\n",
       "      <td>NaN</td>\n",
       "      <td>NaN</td>\n",
       "      <td>NaN</td>\n",
       "      <td>NaN</td>\n",
       "      <td>NaN</td>\n",
       "      <td>NaN</td>\n",
       "      <td>NaN</td>\n",
       "    </tr>\n",
       "    <tr>\n",
       "      <th>...</th>\n",
       "      <td>...</td>\n",
       "      <td>...</td>\n",
       "      <td>...</td>\n",
       "      <td>...</td>\n",
       "      <td>...</td>\n",
       "      <td>...</td>\n",
       "      <td>...</td>\n",
       "      <td>...</td>\n",
       "      <td>...</td>\n",
       "      <td>...</td>\n",
       "      <td>...</td>\n",
       "      <td>...</td>\n",
       "      <td>...</td>\n",
       "      <td>...</td>\n",
       "      <td>...</td>\n",
       "      <td>...</td>\n",
       "      <td>...</td>\n",
       "      <td>...</td>\n",
       "      <td>...</td>\n",
       "      <td>...</td>\n",
       "      <td>...</td>\n",
       "    </tr>\n",
       "    <tr>\n",
       "      <th>195</th>\n",
       "      <td>5dc985eb44ea856b702dd986</td>\n",
       "      <td>2019-10-29T16:10:53</td>\n",
       "      <td>POINT (7.59827 51.96493)</td>\n",
       "      <td>16.027855</td>\n",
       "      <td>%</td>\n",
       "      <td>8.579484</td>\n",
       "      <td>kg/h</td>\n",
       "      <td>1.016152</td>\n",
       "      <td>precision</td>\n",
       "      <td>269.728716</td>\n",
       "      <td>...</td>\n",
       "      <td>2004</td>\n",
       "      <td>Mercedes Benz</td>\n",
       "      <td>NaN</td>\n",
       "      <td>NaN</td>\n",
       "      <td>NaN</td>\n",
       "      <td>NaN</td>\n",
       "      <td>NaN</td>\n",
       "      <td>NaN</td>\n",
       "      <td>NaN</td>\n",
       "      <td>NaN</td>\n",
       "    </tr>\n",
       "    <tr>\n",
       "      <th>196</th>\n",
       "      <td>5dc985eb44ea856b702dd987</td>\n",
       "      <td>2019-10-29T16:10:58</td>\n",
       "      <td>POINT (7.59737 51.96492)</td>\n",
       "      <td>14.000000</td>\n",
       "      <td>%</td>\n",
       "      <td>4.308154</td>\n",
       "      <td>kg/h</td>\n",
       "      <td>1.015842</td>\n",
       "      <td>precision</td>\n",
       "      <td>268.303093</td>\n",
       "      <td>...</td>\n",
       "      <td>2004</td>\n",
       "      <td>Mercedes Benz</td>\n",
       "      <td>NaN</td>\n",
       "      <td>NaN</td>\n",
       "      <td>NaN</td>\n",
       "      <td>NaN</td>\n",
       "      <td>NaN</td>\n",
       "      <td>NaN</td>\n",
       "      <td>NaN</td>\n",
       "      <td>NaN</td>\n",
       "    </tr>\n",
       "    <tr>\n",
       "      <th>197</th>\n",
       "      <td>5dc985eb44ea856b702dd988</td>\n",
       "      <td>2019-10-29T16:11:03</td>\n",
       "      <td>POINT (7.59646 51.96492)</td>\n",
       "      <td>32.000001</td>\n",
       "      <td>%</td>\n",
       "      <td>18.595897</td>\n",
       "      <td>kg/h</td>\n",
       "      <td>1.100000</td>\n",
       "      <td>precision</td>\n",
       "      <td>273.328479</td>\n",
       "      <td>...</td>\n",
       "      <td>2004</td>\n",
       "      <td>Mercedes Benz</td>\n",
       "      <td>NaN</td>\n",
       "      <td>NaN</td>\n",
       "      <td>NaN</td>\n",
       "      <td>NaN</td>\n",
       "      <td>NaN</td>\n",
       "      <td>NaN</td>\n",
       "      <td>NaN</td>\n",
       "      <td>NaN</td>\n",
       "    </tr>\n",
       "    <tr>\n",
       "      <th>198</th>\n",
       "      <td>5dc985eb44ea856b702dd989</td>\n",
       "      <td>2019-10-29T16:11:08</td>\n",
       "      <td>POINT (7.59541 51.96499)</td>\n",
       "      <td>16.000000</td>\n",
       "      <td>%</td>\n",
       "      <td>7.105633</td>\n",
       "      <td>kg/h</td>\n",
       "      <td>1.267463</td>\n",
       "      <td>precision</td>\n",
       "      <td>276.193063</td>\n",
       "      <td>...</td>\n",
       "      <td>2004</td>\n",
       "      <td>Mercedes Benz</td>\n",
       "      <td>NaN</td>\n",
       "      <td>NaN</td>\n",
       "      <td>NaN</td>\n",
       "      <td>NaN</td>\n",
       "      <td>NaN</td>\n",
       "      <td>NaN</td>\n",
       "      <td>NaN</td>\n",
       "      <td>NaN</td>\n",
       "    </tr>\n",
       "    <tr>\n",
       "      <th>199</th>\n",
       "      <td>5dc985eb44ea856b702dd98a</td>\n",
       "      <td>2019-10-29T16:11:13</td>\n",
       "      <td>POINT (7.59433 51.96506)</td>\n",
       "      <td>16.910762</td>\n",
       "      <td>%</td>\n",
       "      <td>7.694858</td>\n",
       "      <td>kg/h</td>\n",
       "      <td>0.938076</td>\n",
       "      <td>precision</td>\n",
       "      <td>276.065524</td>\n",
       "      <td>...</td>\n",
       "      <td>2004</td>\n",
       "      <td>Mercedes Benz</td>\n",
       "      <td>NaN</td>\n",
       "      <td>NaN</td>\n",
       "      <td>NaN</td>\n",
       "      <td>NaN</td>\n",
       "      <td>NaN</td>\n",
       "      <td>NaN</td>\n",
       "      <td>NaN</td>\n",
       "      <td>NaN</td>\n",
       "    </tr>\n",
       "  </tbody>\n",
       "</table>\n",
       "<p>9670 rows × 54 columns</p>\n",
       "</div>"
      ],
      "text/plain": [
       "                           id                 time                  geometry  \\\n",
       "0    5eb7582165b80c5d6be69f24  2020-05-09T21:10:46  POINT (7.65180 51.95396)   \n",
       "1    5eb7582165b80c5d6be69f26  2020-05-09T21:10:51  POINT (7.65169 51.95395)   \n",
       "2    5eb7582165b80c5d6be69f27  2020-05-09T21:10:56  POINT (7.65148 51.95395)   \n",
       "3    5eb7582165b80c5d6be69f28  2020-05-09T21:11:01  POINT (7.65127 51.95397)   \n",
       "4    5eb7582165b80c5d6be69f29  2020-05-09T21:11:06  POINT (7.65101 51.95396)   \n",
       "..                        ...                  ...                       ...   \n",
       "195  5dc985eb44ea856b702dd986  2019-10-29T16:10:53  POINT (7.59827 51.96493)   \n",
       "196  5dc985eb44ea856b702dd987  2019-10-29T16:10:58  POINT (7.59737 51.96492)   \n",
       "197  5dc985eb44ea856b702dd988  2019-10-29T16:11:03  POINT (7.59646 51.96492)   \n",
       "198  5dc985eb44ea856b702dd989  2019-10-29T16:11:08  POINT (7.59541 51.96499)   \n",
       "199  5dc985eb44ea856b702dd98a  2019-10-29T16:11:13  POINT (7.59433 51.96506)   \n",
       "\n",
       "     Throttle Position.value Throttle Position.unit  CO2.value CO2.unit  \\\n",
       "0                  16.000000                      %   6.060965     kg/h   \n",
       "1                  16.831018                      %   7.644530     kg/h   \n",
       "2                  16.846021                      %   6.152178     kg/h   \n",
       "3                  17.000001                      %   7.380207     kg/h   \n",
       "4                  15.151858                      %   3.983817     kg/h   \n",
       "..                       ...                    ...        ...      ...   \n",
       "195                16.027855                      %   8.579484     kg/h   \n",
       "196                14.000000                      %   4.308154     kg/h   \n",
       "197                32.000001                      %  18.595897     kg/h   \n",
       "198                16.000000                      %   7.105633     kg/h   \n",
       "199                16.910762                      %   7.694858     kg/h   \n",
       "\n",
       "     GPS VDOP.value GPS VDOP.unit  GPS Bearing.value  ...  \\\n",
       "0          1.000000     precision         244.006986  ...   \n",
       "1          1.000000     precision         273.231882  ...   \n",
       "2          1.000000     precision         273.377388  ...   \n",
       "3          0.930191     precision         274.705621  ...   \n",
       "4          1.000000     precision         275.181028  ...   \n",
       "..              ...           ...                ...  ...   \n",
       "195        1.016152     precision         269.728716  ...   \n",
       "196        1.015842     precision         268.303093  ...   \n",
       "197        1.100000     precision         273.328479  ...   \n",
       "198        1.267463     precision         276.193063  ...   \n",
       "199        0.938076     precision         276.065524  ...   \n",
       "\n",
       "    sensor.constructionYear  sensor.manufacturer track.appVersion  \\\n",
       "0                      2007                Dodge              NaN   \n",
       "1                      2007                Dodge              NaN   \n",
       "2                      2007                Dodge              NaN   \n",
       "3                      2007                Dodge              NaN   \n",
       "4                      2007                Dodge              NaN   \n",
       "..                      ...                  ...              ...   \n",
       "195                    2004        Mercedes Benz              NaN   \n",
       "196                    2004        Mercedes Benz              NaN   \n",
       "197                    2004        Mercedes Benz              NaN   \n",
       "198                    2004        Mercedes Benz              NaN   \n",
       "199                    2004        Mercedes Benz              NaN   \n",
       "\n",
       "     track.touVersion O2 Lambda Voltage ER.value  O2 Lambda Voltage ER.unit  \\\n",
       "0                 NaN                        NaN                        NaN   \n",
       "1                 NaN                        NaN                        NaN   \n",
       "2                 NaN                        NaN                        NaN   \n",
       "3                 NaN                        NaN                        NaN   \n",
       "4                 NaN                        NaN                        NaN   \n",
       "..                ...                        ...                        ...   \n",
       "195               NaN                        NaN                        NaN   \n",
       "196               NaN                        NaN                        NaN   \n",
       "197               NaN                        NaN                        NaN   \n",
       "198               NaN                        NaN                        NaN   \n",
       "199               NaN                        NaN                        NaN   \n",
       "\n",
       "    MAF.value  MAF.unit O2 Lambda Voltage.value  O2 Lambda Voltage.unit  \n",
       "0         NaN       NaN                     NaN                     NaN  \n",
       "1         NaN       NaN                     NaN                     NaN  \n",
       "2         NaN       NaN                     NaN                     NaN  \n",
       "3         NaN       NaN                     NaN                     NaN  \n",
       "4         NaN       NaN                     NaN                     NaN  \n",
       "..        ...       ...                     ...                     ...  \n",
       "195       NaN       NaN                     NaN                     NaN  \n",
       "196       NaN       NaN                     NaN                     NaN  \n",
       "197       NaN       NaN                     NaN                     NaN  \n",
       "198       NaN       NaN                     NaN                     NaN  \n",
       "199       NaN       NaN                     NaN                     NaN  \n",
       "\n",
       "[9670 rows x 54 columns]"
      ]
     },
     "execution_count": 2,
     "metadata": {},
     "output_type": "execute_result"
    }
   ],
   "source": [
    "bbox = BboxSelector([\n",
    "    7.601165771484375, # min_x\n",
    "    51.94807412325402, # min_y\n",
    "    7.648200988769531, # max_x\n",
    "    51.97261482608728  # max_y\n",
    "])\n",
    "\n",
    "# issue a query\n",
    "track_df = track_api.get_tracks(bbox=bbox, num_results=50) # requesting 50 tracks inside the bbox\n",
    "track_df"
   ]
  },
  {
   "cell_type": "code",
   "execution_count": 3,
   "metadata": {},
   "outputs": [
    {
     "data": {
      "text/plain": [
       "<matplotlib.axes._subplots.AxesSubplot at 0x1c6acae3508>"
      ]
     },
     "execution_count": 3,
     "metadata": {},
     "output_type": "execute_result"
    },
    {
     "data": {
      "image/png": "[encoded data removed]",
      "text/plain": [
       "<Figure size 576x720 with 1 Axes>"
      ]
     },
     "metadata": {
      "needs_background": "light"
     },
     "output_type": "display_data"
    }
   ],
   "source": [
    "track_df.plot(figsize=(8, 10))"
   ]
  },
  {
   "cell_type": "markdown",
   "metadata": {},
   "source": [
    "# Inspecting a single Track"
   ]
  },
  {
   "cell_type": "code",
   "execution_count": 4,
   "metadata": {},
   "outputs": [
    {
     "data": {
      "text/plain": [
       "<matplotlib.axes._subplots.AxesSubplot at 0x1c6aee0a4c8>"
      ]
     },
     "execution_count": 4,
     "metadata": {},
     "output_type": "execute_result"
    },
    {
     "data": {
      "image/png": "[encoded data removed]",
      "text/plain": [
       "<Figure size 432x288 with 1 Axes>"
      ]
     },
     "metadata": {
      "needs_background": "light"
     },
     "output_type": "display_data"
    }
   ],
   "source": [
    "track_df.set_index(\"track.id\")\n",
    "track_df.head()\n",
    "some_track = track_df.loc[[30,31,34,32,33,37]]\n",
    "some_track.plot()"
   ]
  },
  {
   "cell_type": "code",
   "execution_count": 5,
   "metadata": {},
   "outputs": [
    {
     "ename": "KeyError",
     "evalue": "0",
     "output_type": "error",
     "traceback": [
      "\u001b[1;31m---------------------------------------------------------------------------\u001b[0m",
      "\u001b[1;31mKeyError\u001b[0m                                  Traceback (most recent call last)",
      "\u001b[1;32m<ipython-input-5-4ab2c5674beb>\u001b[0m in \u001b[0;36m<module>\u001b[1;34m\u001b[0m\n\u001b[0;32m      1\u001b[0m \u001b[0max\u001b[0m \u001b[1;33m=\u001b[0m \u001b[0msome_track\u001b[0m\u001b[1;33m[\u001b[0m\u001b[1;34m'Speed.value'\u001b[0m\u001b[1;33m]\u001b[0m\u001b[1;33m.\u001b[0m\u001b[0mplot\u001b[0m\u001b[1;33m(\u001b[0m\u001b[1;33m)\u001b[0m\u001b[1;33m\u001b[0m\u001b[1;33m\u001b[0m\u001b[0m\n\u001b[0;32m      2\u001b[0m \u001b[0max\u001b[0m\u001b[1;33m.\u001b[0m\u001b[0mset_title\u001b[0m\u001b[1;33m(\u001b[0m\u001b[1;34m\"Speed\"\u001b[0m\u001b[1;33m)\u001b[0m\u001b[1;33m\u001b[0m\u001b[1;33m\u001b[0m\u001b[0m\n\u001b[1;32m----> 3\u001b[1;33m \u001b[0max\u001b[0m\u001b[1;33m.\u001b[0m\u001b[0mset_ylabel\u001b[0m\u001b[1;33m(\u001b[0m\u001b[0msome_track\u001b[0m\u001b[1;33m[\u001b[0m\u001b[1;34m'Speed.unit'\u001b[0m\u001b[1;33m]\u001b[0m\u001b[1;33m[\u001b[0m\u001b[1;36m0\u001b[0m\u001b[1;33m]\u001b[0m\u001b[1;33m)\u001b[0m\u001b[1;33m\u001b[0m\u001b[1;33m\u001b[0m\u001b[0m\n\u001b[0m\u001b[0;32m      4\u001b[0m \u001b[0max\u001b[0m\u001b[1;33m\u001b[0m\u001b[1;33m\u001b[0m\u001b[0m\n",
      "\u001b[1;32m~\\anaconda3\\lib\\site-packages\\pandas\\core\\series.py\u001b[0m in \u001b[0;36m__getitem__\u001b[1;34m(self, key)\u001b[0m\n\u001b[0;32m    869\u001b[0m         \u001b[0mkey\u001b[0m \u001b[1;33m=\u001b[0m \u001b[0mcom\u001b[0m\u001b[1;33m.\u001b[0m\u001b[0mapply_if_callable\u001b[0m\u001b[1;33m(\u001b[0m\u001b[0mkey\u001b[0m\u001b[1;33m,\u001b[0m \u001b[0mself\u001b[0m\u001b[1;33m)\u001b[0m\u001b[1;33m\u001b[0m\u001b[1;33m\u001b[0m\u001b[0m\n\u001b[0;32m    870\u001b[0m         \u001b[1;32mtry\u001b[0m\u001b[1;33m:\u001b[0m\u001b[1;33m\u001b[0m\u001b[1;33m\u001b[0m\u001b[0m\n\u001b[1;32m--> 871\u001b[1;33m             \u001b[0mresult\u001b[0m \u001b[1;33m=\u001b[0m \u001b[0mself\u001b[0m\u001b[1;33m.\u001b[0m\u001b[0mindex\u001b[0m\u001b[1;33m.\u001b[0m\u001b[0mget_value\u001b[0m\u001b[1;33m(\u001b[0m\u001b[0mself\u001b[0m\u001b[1;33m,\u001b[0m \u001b[0mkey\u001b[0m\u001b[1;33m)\u001b[0m\u001b[1;33m\u001b[0m\u001b[1;33m\u001b[0m\u001b[0m\n\u001b[0m\u001b[0;32m    872\u001b[0m \u001b[1;33m\u001b[0m\u001b[0m\n\u001b[0;32m    873\u001b[0m             \u001b[1;32mif\u001b[0m \u001b[1;32mnot\u001b[0m \u001b[0mis_scalar\u001b[0m\u001b[1;33m(\u001b[0m\u001b[0mresult\u001b[0m\u001b[1;33m)\u001b[0m\u001b[1;33m:\u001b[0m\u001b[1;33m\u001b[0m\u001b[1;33m\u001b[0m\u001b[0m\n",
      "\u001b[1;32m~\\anaconda3\\lib\\site-packages\\pandas\\core\\indexes\\base.py\u001b[0m in \u001b[0;36mget_value\u001b[1;34m(self, series, key)\u001b[0m\n\u001b[0;32m   4403\u001b[0m         \u001b[0mk\u001b[0m \u001b[1;33m=\u001b[0m \u001b[0mself\u001b[0m\u001b[1;33m.\u001b[0m\u001b[0m_convert_scalar_indexer\u001b[0m\u001b[1;33m(\u001b[0m\u001b[0mk\u001b[0m\u001b[1;33m,\u001b[0m \u001b[0mkind\u001b[0m\u001b[1;33m=\u001b[0m\u001b[1;34m\"getitem\"\u001b[0m\u001b[1;33m)\u001b[0m\u001b[1;33m\u001b[0m\u001b[1;33m\u001b[0m\u001b[0m\n\u001b[0;32m   4404\u001b[0m         \u001b[1;32mtry\u001b[0m\u001b[1;33m:\u001b[0m\u001b[1;33m\u001b[0m\u001b[1;33m\u001b[0m\u001b[0m\n\u001b[1;32m-> 4405\u001b[1;33m             \u001b[1;32mreturn\u001b[0m \u001b[0mself\u001b[0m\u001b[1;33m.\u001b[0m\u001b[0m_engine\u001b[0m\u001b[1;33m.\u001b[0m\u001b[0mget_value\u001b[0m\u001b[1;33m(\u001b[0m\u001b[0ms\u001b[0m\u001b[1;33m,\u001b[0m \u001b[0mk\u001b[0m\u001b[1;33m,\u001b[0m \u001b[0mtz\u001b[0m\u001b[1;33m=\u001b[0m\u001b[0mgetattr\u001b[0m\u001b[1;33m(\u001b[0m\u001b[0mseries\u001b[0m\u001b[1;33m.\u001b[0m\u001b[0mdtype\u001b[0m\u001b[1;33m,\u001b[0m \u001b[1;34m\"tz\"\u001b[0m\u001b[1;33m,\u001b[0m \u001b[1;32mNone\u001b[0m\u001b[1;33m)\u001b[0m\u001b[1;33m)\u001b[0m\u001b[1;33m\u001b[0m\u001b[1;33m\u001b[0m\u001b[0m\n\u001b[0m\u001b[0;32m   4406\u001b[0m         \u001b[1;32mexcept\u001b[0m \u001b[0mKeyError\u001b[0m \u001b[1;32mas\u001b[0m \u001b[0me1\u001b[0m\u001b[1;33m:\u001b[0m\u001b[1;33m\u001b[0m\u001b[1;33m\u001b[0m\u001b[0m\n\u001b[0;32m   4407\u001b[0m             \u001b[1;32mif\u001b[0m \u001b[0mlen\u001b[0m\u001b[1;33m(\u001b[0m\u001b[0mself\u001b[0m\u001b[1;33m)\u001b[0m \u001b[1;33m>\u001b[0m \u001b[1;36m0\u001b[0m \u001b[1;32mand\u001b[0m \u001b[1;33m(\u001b[0m\u001b[0mself\u001b[0m\u001b[1;33m.\u001b[0m\u001b[0mholds_integer\u001b[0m\u001b[1;33m(\u001b[0m\u001b[1;33m)\u001b[0m \u001b[1;32mor\u001b[0m \u001b[0mself\u001b[0m\u001b[1;33m.\u001b[0m\u001b[0mis_boolean\u001b[0m\u001b[1;33m(\u001b[0m\u001b[1;33m)\u001b[0m\u001b[1;33m)\u001b[0m\u001b[1;33m:\u001b[0m\u001b[1;33m\u001b[0m\u001b[1;33m\u001b[0m\u001b[0m\n",
      "\u001b[1;32mpandas\\_libs\\index.pyx\u001b[0m in \u001b[0;36mpandas._libs.index.IndexEngine.get_value\u001b[1;34m()\u001b[0m\n",
      "\u001b[1;32mpandas\\_libs\\index.pyx\u001b[0m in \u001b[0;36mpandas._libs.index.IndexEngine.get_value\u001b[1;34m()\u001b[0m\n",
      "\u001b[1;32mpandas\\_libs\\index.pyx\u001b[0m in \u001b[0;36mpandas._libs.index.IndexEngine.get_loc\u001b[1;34m()\u001b[0m\n",
      "\u001b[1;32mpandas\\_libs\\index.pyx\u001b[0m in \u001b[0;36mpandas._libs.index.IndexEngine._get_loc_duplicates\u001b[1;34m()\u001b[0m\n",
      "\u001b[1;32mpandas\\_libs\\index_class_helper.pxi\u001b[0m in \u001b[0;36mpandas._libs.index.Int64Engine._maybe_get_bool_indexer\u001b[1;34m()\u001b[0m\n",
      "\u001b[1;31mKeyError\u001b[0m: 0"
     ]
    },
    {
     "data": {
      "image/png": "[encoded data removed]",
      "text/plain": [
       "<Figure size 432x288 with 1 Axes>"
      ]
     },
     "metadata": {
      "needs_background": "light"
     },
     "output_type": "display_data"
    }
   ],
   "source": [
    "ax = some_track['Speed.value'].plot()\n",
    "ax.set_title(\"Speed\")\n",
    "ax.set_ylabel(some_track['Speed.unit'][0])\n",
    "ax"
   ]
  },
  {
   "cell_type": "markdown",
   "metadata": {},
   "source": [
    "## Interactive Map\n",
    "The following map-based visualization makes use of folium. It allows to visualizate geospatial data based on an interactive leaflet map. Since the data in the GeoDataframe is modelled as a set of Point instead of a LineString, we have to manually create a polyline"
   ]
  },
  {
   "cell_type": "code",
   "execution_count": 22,
   "metadata": {},
   "outputs": [
    {
     "data": {
      "text/html": [
       "<div style=\"width:100%;\"><div style=\"position:relative;width:100%;height:0;padding-bottom:60%;\"><span style=\"color:#565656\">Make this Notebook Trusted to load map: File -> Trust Notebook</span><iframe src=\"about:blank\" style=\"position:absolute;width:100%;height:100%;left:0;top:0;border:none !important;\" data-html=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 onload=\"this.contentDocument.open();this.contentDocument.write(atob(this.getAttribute('data-html')));this.contentDocument.close();\" allowfullscreen webkitallowfullscreen mozallowfullscreen></iframe></div></div>"
      ],
      "text/plain": [
       "<folium.folium.Map at 0x20b8a61fe08>"
      ]
     },
     "execution_count": 22,
     "metadata": {},
     "output_type": "execute_result"
    }
   ],
   "source": [
    "import folium\n",
    "\n",
    "lats = list(some_track['geometry'].apply(lambda coord: coord.y))\n",
    "lngs = list(some_track['geometry'].apply(lambda coord: coord.x))\n",
    "\n",
    "avg_lat = sum(lats) / len(lats)\n",
    "avg_lngs = sum(lngs) / len(lngs)\n",
    "\n",
    "m = folium.Map(location=[avg_lat, avg_lngs], zoom_start=13)\n",
    "folium.PolyLine([coords for coords in zip(lats, lngs)], color='blue').add_to(m)\n",
    "m"
   ]
  },
  {
   "cell_type": "markdown",
   "metadata": {},
   "source": [
    "# Example: Visualization with pydeck (deck.gl)"
   ]
  },
  {
   "cell_type": "markdown",
   "metadata": {},
   "source": [
    "The pydeck library makes use of the basemap tiles from Mapbox. In case you want to visualize the map with basemap tiles, you need to register with MapBox, and configure a specific access token. The service is free until a certain level of traffic is esceeded.\n",
    "\n",
    "You can either configure it via your terminal (i.e. `export MAPBOX_API_KEY=<mapbox-key-here>`), which pydeck will automatically read, or you can pass it as a variable to the generation of pydeck (i.e. `pdk.Deck(mapbox_key=<mapbox-key-here>, ...)`."
   ]
  },
  {
   "cell_type": "code",
   "execution_count": 7,
   "metadata": {},
   "outputs": [
    {
     "data": {
      "text/html": [
       "\n",
       "        <iframe\n",
       "            width=\"900\"\n",
       "            height=\"500\"\n",
       "            src=\"./tracks_muenster.html\"\n",
       "            frameborder=\"0\"\n",
       "            allowfullscreen\n",
       "        ></iframe>\n",
       "        "
      ],
      "text/plain": [
       "<IPython.lib.display.IFrame at 0x7f4e508e19b0>"
      ]
     },
     "metadata": {},
     "output_type": "display_data"
    },
    {
     "data": {
      "text/plain": [
       "'/home/hafenkran/dev/envirocar/envirocar-py/examples/tracks_muenster.html'"
      ]
     },
     "execution_count": 7,
     "metadata": {},
     "output_type": "execute_result"
    }
   ],
   "source": [
    "import pydeck as pdk\n",
    "\n",
    "# for pydeck the attributes have to be flat\n",
    "track_df['lat'] = track_df['geometry'].apply(lambda coord: coord.y)\n",
    "track_df['lng'] = track_df['geometry'].apply(lambda coord: coord.x)\n",
    "vis_df = pd.DataFrame(track_df)\n",
    "vis_df['speed'] = vis_df['Speed.value']\n",
    "\n",
    "# omit unit columns\n",
    "vis_df_cols = [col for col in vis_df.columns if col.lower()[len(col)-4:len(col)] != 'unit']\n",
    "vis_df = vis_df[vis_df_cols]\n",
    "\n",
    "layer = pdk.Layer(\n",
    "    'ScatterplotLayer',\n",
    "    data=vis_df,\n",
    "    get_position='[lng, lat]',\n",
    "    auto_highlight=True,\n",
    "    get_radius=10,          # Radius is given in meters\n",
    "    get_fill_color='[speed < 20 ? 0 : (speed - 20)*8.5, speed < 50 ? 255 : 255 - (speed-50)*8.5, 0, 140]',  # Set an RGBA value for fill\n",
    "    pickable=True\n",
    ")\n",
    "\n",
    "# Set the viewport location\n",
    "view_state = pdk.ViewState(\n",
    "    longitude=7.5963592529296875,\n",
    "    latitude=51.96246168188569,\n",
    "    zoom=10,\n",
    "    min_zoom=5,\n",
    "    max_zoom=15,\n",
    "    pitch=40.5,\n",
    "    bearing=-27.36)\n",
    "\n",
    "r = pdk.Deck(\n",
    "    width=200, \n",
    "    layers=[layer], \n",
    "    initial_view_state=view_state #, mapbox_key=<mapbox-key-here>\n",
    ")\n",
    "r.to_html('tracks_muenster.html', iframe_width=900)"
   ]
  }
 ],
 "metadata": {
  "kernelspec": {
   "display_name": "Python 3",
   "language": "python",
   "name": "python3"
  },
  "language_info": {
   "codemirror_mode": {
    "name": "ipython",
    "version": 3
   },
   "file_extension": ".py",
   "mimetype": "text/x-python",
   "name": "python",
   "nbconvert_exporter": "python",
   "pygments_lexer": "ipython3",
   "version": "3.7.6"
  }
 },
 "nbformat": 4,
 "nbformat_minor": 4
}
